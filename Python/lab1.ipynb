{
 "cells": [
  {
   "cell_type": "code",
   "execution_count": 23,
   "metadata": {},
   "outputs": [
    {
     "name": "stdout",
     "output_type": "stream",
     "text": [
      "3\n"
     ]
    }
   ],
   "source": [
    "world=input(\"input world: \")\n",
    "numVowels = 0\n",
    "vowels='aeiou'\n",
    "for c in world:\n",
    "    if vowels.find(c) != -1:\n",
    "      numVowels+=1  \n",
    "print(numVowels)"
   ]
  },
  {
   "cell_type": "code",
   "execution_count": 27,
   "metadata": {},
   "outputs": [
    {
     "name": "stdout",
     "output_type": "stream",
     "text": [
      "[4, 5, 6, 3, 9]\n",
      "[9, 6, 5, 4, 3]\n"
     ]
    }
   ],
   "source": [
    "numbers=[]\n",
    "while len(numbers)<5:\n",
    "    num = input(\"input number: \")\n",
    "    if num.isdigit():\n",
    "        numbers.append(int(num))\n",
    "        \n",
    "print(numbers)\n",
    "sortNumber=[]\n",
    "for i in range(len(numbers)):\n",
    "    sortNumber.append(max(numbers))\n",
    "    numbers.remove(max(numbers))\n",
    "print(sortNumber)"
   ]
  },
  {
   "cell_type": "code",
   "execution_count": 28,
   "metadata": {},
   "outputs": [
    {
     "name": "stdout",
     "output_type": "stream",
     "text": [
      "2\n"
     ]
    }
   ],
   "source": [
    "inputString = input(\"input string : \")\n",
    "#print(inputString.count('iti'))\n",
    "counter=0\n",
    "for index in range(len(inputString)-2):\n",
    "    if inputString[index:index+3] == 'iti':\n",
    "        counter+=1\n",
    "print(counter)"
   ]
  },
  {
   "cell_type": "code",
   "execution_count": 29,
   "metadata": {},
   "outputs": [
    {
     "name": "stdout",
     "output_type": "stream",
     "text": [
      "bdlrhmn\n"
     ]
    }
   ],
   "source": [
    "world=input(\"input world: \")\n",
    "newWorld = ''\n",
    "vowels='aeiou'\n",
    "for c in world:\n",
    "    if vowels.find(c) == -1:\n",
    "      newWorld+=c  \n",
    "print(newWorld)"
   ]
  },
  {
   "cell_type": "code",
   "execution_count": 32,
   "metadata": {},
   "outputs": [
    {
     "name": "stdout",
     "output_type": "stream",
     "text": [
      "locations of i 0\n",
      "locations of i 2\n"
     ]
    }
   ],
   "source": [
    "world=input(\"input world: \")\n",
    "for index in range(len(world)):\n",
    "    if world[index] =='i':\n",
    "        print (\"locations of i : \",index)"
   ]
  },
  {
   "cell_type": "code",
   "execution_count": 39,
   "metadata": {},
   "outputs": [
    {
     "name": "stdout",
     "output_type": "stream",
     "text": [
      "[[1], [2, 4], [3, 6, 9]]\n"
     ]
    }
   ],
   "source": [
    "number = int(input('Enter Number'))\n",
    "outPut=[]\n",
    "for i in range(1,number+1):\n",
    "    subOutPut=[]\n",
    "    for j in range(1,i+1):\n",
    "        subOutPut.append(i*j)\n",
    "    outPut.append(subOutPut)\n",
    "print(outPut)"
   ]
  },
  {
   "cell_type": "code",
   "execution_count": 45,
   "metadata": {},
   "outputs": [
    {
     "name": "stdout",
     "output_type": "stream",
     "text": [
      "     *\n",
      "    **\n",
      "   ***\n",
      "  ****\n"
     ]
    }
   ],
   "source": [
    "number = int(input('Enter Number'))\n",
    "space=\" \"*number\n",
    "star='*'\n",
    "for i in range(number):\n",
    "    print(space,star)\n",
    "    space = space[0:len(space)-1]\n",
    "    star+='*'"
   ]
  }
 ],
 "metadata": {
  "kernelspec": {
   "display_name": "Python 3",
   "language": "python",
   "name": "python3"
  },
  "language_info": {
   "codemirror_mode": {
    "name": "ipython",
    "version": 3
   },
   "file_extension": ".py",
   "mimetype": "text/x-python",
   "name": "python",
   "nbconvert_exporter": "python",
   "pygments_lexer": "ipython3",
   "version": "3.12.1"
  }
 },
 "nbformat": 4,
 "nbformat_minor": 2
}
