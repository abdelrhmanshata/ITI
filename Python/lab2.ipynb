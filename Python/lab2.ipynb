{
 "cells": [
  {
   "cell_type": "code",
   "execution_count": 5,
   "metadata": {},
   "outputs": [
    {
     "name": "stdout",
     "output_type": "stream",
     "text": [
      "[6, 7, 8, 9, 10, 11, 12, 13, 14, 15]\n"
     ]
    }
   ],
   "source": [
    "lLength = input('Enter Length')\n",
    "while not lLength.isdigit():\n",
    "    lLength = input('Enter Length')\n",
    "    \n",
    "lStart = input('Enter Start')\n",
    "while not lStart.isdigit():\n",
    "    lStart = input('Enter Start')\n",
    "\n",
    "lLength = int(lLength)\n",
    "lStart = int(lStart)\n",
    "\n",
    "def generateArray(length,start,):\n",
    "    numbersArray=[]\n",
    "    for i in range(length):\n",
    "        start+=1\n",
    "        numbersArray.append(start)\n",
    "\n",
    "    return numbersArray\n",
    "print(generateArray(lLength,lStart))\n"
   ]
  },
  {
   "cell_type": "code",
   "execution_count": 6,
   "metadata": {},
   "outputs": [
    {
     "name": "stdout",
     "output_type": "stream",
     "text": [
      "buzz\n"
     ]
    }
   ],
   "source": [
    "number = input('Enter Number')\n",
    "while not number.isdigit():\n",
    "    number = input('Enter Start')\n",
    "\n",
    "number = int(number)\n",
    "\n",
    "def checkNumber(num):\n",
    "    if num%3==0 and num%5==0:\n",
    "        print(\"FizzBuzz\")\n",
    "    elif num%3==0:\n",
    "        print(\"Fizz\")\n",
    "    elif num%5==0:\n",
    "        print(\"buzz\")\n",
    "    else:\n",
    "        print(\"None\")\n",
    "        \n",
    "checkNumber(number)"
   ]
  },
  {
   "cell_type": "code",
   "execution_count": 6,
   "metadata": {},
   "outputs": [
    {
     "name": "stdout",
     "output_type": "stream",
     "text": [
      "\n"
     ]
    }
   ],
   "source": [
    "print(input('Enter Text')[::-1])"
   ]
  },
  {
   "cell_type": "code",
   "execution_count": 29,
   "metadata": {},
   "outputs": [
    {
     "name": "stdout",
     "output_type": "stream",
     "text": [
      "Your Name  Is :  Abd Elrhman\n",
      "Your Email Is :  abd@gmail.com\n"
     ]
    }
   ],
   "source": [
    "import re\n",
    "userName = input('Enter Your Name')\n",
    "if bool(re.match(r'^[a-zA-Z_\\s]+$', userName)):\n",
    "    userEmail = input('Enter Your Email')\n",
    "    isEmailValid =  bool(re.match(r'^\\S+@\\S+\\.\\S+$', userEmail))\n",
    "    if isEmailValid:\n",
    "        print(\"Your Name  Is : \",userName)\n",
    "        print(\"Your Email Is : \",userEmail)\n",
    "    else:\n",
    "        print(\"This Email Is Not Valid\")     \n",
    "else:\n",
    "    print(\"Make sure your name is not empty and there are no numbers\")"
   ]
  },
  {
   "cell_type": "code",
   "execution_count": 9,
   "metadata": {},
   "outputs": [
    {
     "name": "stdout",
     "output_type": "stream",
     "text": [
      "abdelr\n"
     ]
    }
   ],
   "source": [
    "userInput = input('Enter String')\n",
    "start=[]\n",
    "start.append(0)\n",
    "end=[]\n",
    "end.append(0)\n",
    "maxLength=[]\n",
    "maxLength.append(0)\n",
    "\n",
    "i=0\n",
    "\n",
    "for index in range(1,len(userInput)):\n",
    "    if userInput[index-1] < userInput[index]:\n",
    "        end[i]=index+1\n",
    "        maxLength[i]=(end[i] - start[i])\n",
    "    else:\n",
    "        i+=1\n",
    "        start.append(index)\n",
    "        end.append(index)\n",
    "        maxLength.append(0)\n",
    "        \n",
    "maxLIndex = maxLength.index(max(maxLength))\n",
    "print(userInput[start[maxLIndex]:end[maxLIndex]])  \n"
   ]
  },
  {
   "cell_type": "code",
   "execution_count": 42,
   "metadata": {},
   "outputs": [
    {
     "name": "stdout",
     "output_type": "stream",
     "text": [
      "Input Error : Input Must be only Numbers \n",
      "Inputs [1, 2, 3, 5, 6, 9, 3, 2, 5, 6, 6, 6, 3, 3, 3, 9, 9]\n",
      "Total 81\n",
      "average  4.764705882352941\n"
     ]
    }
   ],
   "source": [
    "userInput=''\n",
    "numbers=[]\n",
    "while userInput!='done':\n",
    "    userInput = input('Enter Number')\n",
    "    if(userInput.isdigit()):\n",
    "       numbers.append(int(userInput))\n",
    "    else:\n",
    "        print(\"Input Error : Input Must be only Numbers \")\n",
    "\n",
    "if len(numbers)!=0:\n",
    "    sum=0\n",
    "    for num in numbers:\n",
    "        sum+=num\n",
    "    print(\"Inputs\",numbers)\n",
    "    print(\"Total\",sum)\n",
    "    print(\"average \",(sum/len(numbers)))\n",
    "else:\n",
    "    print(\"Array Is Empty\")"
   ]
  },
  {
   "cell_type": "code",
   "execution_count": 76,
   "metadata": {},
   "outputs": [
    {
     "name": "stdout",
     "output_type": "stream",
     "text": [
      "Done\n"
     ]
    }
   ],
   "source": [
    "import os\n",
    "def useIndexIsFound(userName):\n",
    "    try:\n",
    "        result = open('Scores.txt','r+')\n",
    "        lines = result.readlines()\n",
    "        for index in range(1,len(lines)):\n",
    "            line = lines[index]\n",
    "            uName = line.split(':')[0]\n",
    "            if uName==userName:\n",
    "                result.close()\n",
    "                return index\n",
    "        result.close()\n",
    "        return -1\n",
    "    except Exception as e:\n",
    "        print(\"Error opening file!\",e)\n",
    "        return -1\n",
    "        \n",
    "def updateFile(userIndex , status):\n",
    "    if status=='win':\n",
    "        actionIndex=1\n",
    "    else:\n",
    "        actionIndex=2\n",
    "    try:\n",
    "        result = open('Scores.txt','r+')\n",
    "        lines = result.readlines()\n",
    "        userLine  = lines[userIndex] \n",
    "        userData = userLine.split(':')\n",
    "        userData[actionIndex] = str(int(userData[actionIndex])+1)        \n",
    "        lines[userIndex] =':'.join(userData)\n",
    "        result.close()\n",
    "        result = open('Scores.txt','w')\n",
    "        for item in lines:\n",
    "            result.write(item)\n",
    "        result.close()\n",
    "        print(\"Done\")\n",
    "    except Exception as e:\n",
    "        print(\"Error opening file!\",e)  \n",
    "        return 0\n",
    "    \n",
    "def addNewUser(userName,status):\n",
    "    if status=='win':\n",
    "        line=f\"{userName}:1:0:\\n\"\n",
    "    else:\n",
    "        line=f\"{userName}:0:1:\\n\"  \n",
    "    try:\n",
    "        result = open('Scores.txt','a')\n",
    "        result.write(line)\n",
    "        result.close()\n",
    "        print(\"Done\")\n",
    "    except Exception as e:\n",
    "        print(\"Error opening file!\",e)\n",
    "    \n",
    " \n",
    "if not os.path.exists('Scores.txt'):\n",
    "    result = open('Scores.txt','w')\n",
    "    result.write(\"userName:win:loss:\\n\")\n",
    "    result.close()  \n",
    "    \n",
    "userName=\"ahmed\"\n",
    "userIndex = useIndexIsFound(userName)\n",
    "if userIndex==-1:\n",
    "    addNewUser(userName,'win')\n",
    "else: \n",
    "    updateFile(userIndex,'win')\n",
    "\n",
    "\n",
    "    "
   ]
  },
  {
   "cell_type": "code",
   "execution_count": 2,
   "metadata": {},
   "outputs": [
    {
     "name": "stdout",
     "output_type": "stream",
     "text": [
      "grape\n",
      "Hi,Ali Welcome In Hangman Game\n",
      "Wrong guess! Turns left: 6\n",
      "Wrong guess! Turns left: 5\n",
      "Wrong guess! Turns left: 4\n",
      "Wrong guess! Turns left: 3\n",
      "Wrong guess! Turns left: 2\n",
      "Wrong guess! Turns left: 1\n",
      "Wrong guess! Turns left: 0\n",
      "You Lost The Game!\n",
      "The Word Was:  grape\n"
     ]
    }
   ],
   "source": [
    "# Library\n",
    "import random\n",
    "import os\n",
    "\n",
    "def useIndexIsFound(userName):\n",
    "    try:\n",
    "        result = open('Scores.txt','r+')\n",
    "        lines = result.readlines()\n",
    "        for index in range(1,len(lines)):\n",
    "            line = lines[index]\n",
    "            uName = line.split(':')[0]\n",
    "            if uName==userName:\n",
    "                result.close()\n",
    "                return index\n",
    "        result.close()\n",
    "        return -1\n",
    "    except Exception as e:\n",
    "        print(\"Error opening file!\",e)\n",
    "        return -1\n",
    "        \n",
    "def updateFile(userIndex , status):\n",
    "    if status=='win':\n",
    "        actionIndex=1\n",
    "    else:\n",
    "        actionIndex=2\n",
    "    try:\n",
    "        result = open('Scores.txt','r+')\n",
    "        lines = result.readlines()\n",
    "        userLine  = lines[userIndex] \n",
    "        userData = userLine.split(':')\n",
    "        userData[actionIndex] = str(int(userData[actionIndex])+1)        \n",
    "        lines[userIndex] =':'.join(userData)\n",
    "        result.close()\n",
    "        result = open('Scores.txt','w')\n",
    "        for item in lines:\n",
    "            result.write(item)\n",
    "        result.close()\n",
    "    except Exception as e:\n",
    "        print(\"Error opening file!\",e)  \n",
    "        return 0\n",
    "    \n",
    "def addNewUser(userName,status):\n",
    "    if status=='win':\n",
    "        line=f\"{userName}:1:0:\\n\"\n",
    "    else:\n",
    "        line=f\"{userName}:0:1:\\n\"  \n",
    "    try:\n",
    "        result = open('Scores.txt','a')\n",
    "        result.write(line)\n",
    "        result.close()\n",
    "    except Exception as e:\n",
    "        print(\"Error opening file!\",e)\n",
    "\n",
    "# hangmanGame\n",
    "listOfWords=['apple','banana','orange','mango','grape','pineapple','strawberry','watermelon','kiwi','peach']\n",
    "word = listOfWords[random.randint(0, 9)]\n",
    "turns=7\n",
    "userGuess=['-']*len(word)\n",
    "# Hint\n",
    "print(word)\n",
    "\n",
    "userName = input('Enter Your Name')\n",
    "print(f'Hi,{userName} Welcome In Hangman Game')\n",
    "\n",
    "while turns>0 and word!=''.join(userGuess):\n",
    "    userInput = input('Guess any Alphabet').lower()\n",
    "    wordGuess = ''.join(userGuess)\n",
    "    for index in range(len(word)):\n",
    "        if word[index] == userInput:\n",
    "            userGuess[index]=userInput\n",
    "    \n",
    "    if wordGuess == ''.join(userGuess):\n",
    "            turns-=1\n",
    "            print(f\"Wrong guess! Turns left: {turns}\")\n",
    "    else:       \n",
    "            print (\"Good guess!\")\n",
    "            print(''.join(userGuess))\n",
    "        \n",
    "if not os.path.exists('Scores.txt'):\n",
    "    result = open('Scores.txt','w')\n",
    "    result.write(\"userName:win:loss:\\n\")\n",
    "    result.close()\n",
    "    \n",
    "userIndex = useIndexIsFound(userName)\n",
    "    \n",
    "if word==''.join(userGuess):\n",
    "    print(\"Congratulations You Won!!\")\n",
    "    if userIndex==-1:\n",
    "        addNewUser(userName,'win')\n",
    "    else: \n",
    "        updateFile(userIndex,'win')\n",
    "else:\n",
    "    print(\"You Lost The Game!\\nThe Word Was: \",word)\n",
    "    if userIndex==-1:\n",
    "       addNewUser(userName,'loss')\n",
    "    else: \n",
    "      updateFile(userIndex,'loss')"
   ]
  },
  {
   "cell_type": "code",
   "execution_count": null,
   "metadata": {},
   "outputs": [],
   "source": []
  }
 ],
 "metadata": {
  "kernelspec": {
   "display_name": "Python 3",
   "language": "python",
   "name": "python3"
  },
  "language_info": {
   "codemirror_mode": {
    "name": "ipython",
    "version": 3
   },
   "file_extension": ".py",
   "mimetype": "text/x-python",
   "name": "python",
   "nbconvert_exporter": "python",
   "pygments_lexer": "ipython3",
   "version": "3.12.1"
  }
 },
 "nbformat": 4,
 "nbformat_minor": 2
}
